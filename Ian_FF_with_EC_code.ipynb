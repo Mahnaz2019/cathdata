{
 "cells": [
  {
   "cell_type": "code",
   "execution_count": 29,
   "metadata": {},
   "outputs": [
    {
     "name": "stdout",
     "output_type": "stream",
     "text": [
      "EXAMPLE 1\n",
      "EC: W5K377\n",
      "EC: C1BAQ3\n",
      "EC: A0A1E5N270\n",
      "EC: A0A1M3WN83\n",
      "EC: A0A1N5VPX9\n",
      "EXAMPLE 2\n",
      "EC: W5K377\n",
      "EC: C1BAQ3\n",
      "EC: A0A1E5N270\n",
      "EC: A0A1M3WN83\n",
      "EC: A0A1N5VPX9\n",
      "EXAMPLE 3 (dict comprehension)\n",
      "EC: W5K377\n",
      "EC: C1BAQ3\n",
      "EC: A0A1E5N270\n",
      "EC: A0A1M3WN83\n",
      "EC: A0A1N5VPX9\n"
     ]
    }
   ],
   "source": [
    "import pandas as pd\n",
    "\n",
    "csv1_filename = \"funfam_members_plus_ec_terms.csv\"\n",
    "\n",
    "EC_CODE = '3.1.1.'\n",
    "\n",
    "# read all the data into a dict\n",
    "ffm_by_id = {}\n",
    "with open(csv1_filename) as csv1_fh:\n",
    "    headers = csv1_fh.readline().strip()\n",
    "    for line in csv1_fh:\n",
    "        line = line.replace('\\\"', '')\n",
    "        line = line.strip()\n",
    "        funfam_number, member_id, member_type, sequence_md5, uniprot_acc, ec_code = line.split(',')\n",
    "        superfamily_id = '?.?.?.?'\n",
    "        ff_id = f'{superfamily_id}-ff-{funfam_number}'\n",
    "        ffm_dict = {\n",
    "            'funfam_number': funfam_number,\n",
    "            'superfamily_id': superfamily_id,\n",
    "            'member_id': member_id,\n",
    "            'ec_code': ec_code,\n",
    "            'uniprot_acc': uniprot_acc,\n",
    "            'funfam_id': ff_id,\n",
    "        }\n",
    "        ffm_by_id[member_id] = ffm_dict\n",
    "\n",
    "def print_first_entries(ffm_entries):\n",
    "    for member_id in list(ffm_entries.keys())[:5]:\n",
    "        ffm_dict = ffm_entries[member_id]\n",
    "        print(f\"EC: {ffm_dict['uniprot_acc']}\")\n",
    "\n",
    "print(\"EXAMPLE 1\")\n",
    "ffm_in_ec_code = {}\n",
    "for member_id in ffm_by_id.keys():\n",
    "    ffm_dict = ffm_by_id[member_id]\n",
    "    if ffm_dict['ec_code'].startswith(EC_CODE):\n",
    "        ffm_in_ec_code[member_id] = ffm_dict\n",
    "print_first_entries(ffm_in_ec_code)\n",
    "\n",
    "# equivalent to above                \n",
    "print(\"EXAMPLE 2\")\n",
    "ffm_in_ec_code = {}\n",
    "for member_id, ffm_dict in ffm_by_id.items():\n",
    "    if ffm_dict['ec_code'].startswith(EC_CODE):\n",
    "        ffm_in_ec_code[member_id] = ffm_dict\n",
    "print_first_entries(ffm_in_ec_code)\n",
    "\n",
    "  \n",
    "# list comprehension\n",
    "# mylist1 = ('a', 'b', 'c', 'd', 'c3')\n",
    "# mylist2 = [v for v in mylist1 if v.startswith('c')]\n",
    "\n",
    "# equivalent to above\n",
    "print(\"EXAMPLE 3 (dict comprehension)\")\n",
    "ffm_in_ec_code = {k: v for k, v in ffm_by_id.items() \n",
    "                  if v['ec_code'].startswith(EC_CODE)}\n",
    "print_first_entries(ffm_in_ec_code)"
   ]
  },
  {
   "cell_type": "code",
   "execution_count": 33,
   "metadata": {},
   "outputs": [
    {
     "name": "stdout",
     "output_type": "stream",
     "text": [
      "Found 48815 FunFams with EC code matching '3.'\n",
      "Found 30828 FunFams with EC code matching '3.1.'\n",
      "Found 25246 FunFams with EC code matching '3.1.1.'\n"
     ]
    }
   ],
   "source": [
    "def uniq_funfam_ids_with_ec_code_long_version(ffm_d, ec_str):\n",
    "    uniq_by_ff_id = set()\n",
    "    for member_id, ffm_dict in ffm_d.items():\n",
    "        if ffm_dict['ec_code'].startswith(ec_str):\n",
    "            uniq_by_ff_id.add(ffm_dict['funfam_id'])\n",
    "    return uniq_by_ff_id\n",
    "\n",
    "# equivalent to above\n",
    "def uniq_funfam_ids_with_ec_code(ffm_d, ec_str):\n",
    "    # dict comprehension\n",
    "    # uniq_by_ff_id = {k: v for k, v in dict.items()}\n",
    "    # set comprehension\n",
    "    # uniq_by_ff_id = {k for k, v in dict.items()}\n",
    "    return {v['funfam_id'] for k, v in ffm_d.items() \n",
    "            if v['ec_code'].startswith(ec_str)}\n",
    "\n",
    "ff_with_ec1 = uniq_funfam_ids_with_ec_code(ffm_by_id, '3.')\n",
    "print(f\"Found {len(ff_with_ec1)} FunFams with EC code matching '3.'\")\n",
    "\n",
    "ff_with_ec2 = uniq_funfam_ids_with_ec_code(ffm_by_id, '3.1.')\n",
    "print(f\"Found {len(ff_with_ec2)} FunFams with EC code matching '3.1.'\")\n",
    "    \n",
    "ff_with_ec3 = uniq_funfam_ids_with_ec_code(ffm_by_id, '3.1.1.')\n",
    "print(f\"Found {len(ff_with_ec3)} FunFams with EC code matching '3.1.1.'\")\n"
   ]
  }
 ],
 "metadata": {
  "kernelspec": {
   "display_name": "Python 3",
   "language": "python",
   "name": "python3"
  },
  "language_info": {
   "codemirror_mode": {
    "name": "ipython",
    "version": 3
   },
   "file_extension": ".py",
   "mimetype": "text/x-python",
   "name": "python",
   "nbconvert_exporter": "python",
   "pygments_lexer": "ipython3",
   "version": "3.7.3"
  }
 },
 "nbformat": 4,
 "nbformat_minor": 2
}
