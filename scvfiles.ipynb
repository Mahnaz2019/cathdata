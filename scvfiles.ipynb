{
 "cells": [
  {
   "cell_type": "code",
   "execution_count": null,
   "metadata": {},
   "outputs": [],
   "source": [
    "# # test python script\n",
    "# 1. remove \"\"\n",
    "# 2. filter uniq EC numbers in the table\n",
    "# 3. count the number uniq EC numbers\n",
    "import pandas as pd\n",
    "csv1_filename = \"ec_terms_in_sfam.csv\"\n",
    "uniq_ec = set()\n",
    "with open(csv1_filename) as csv1_fh:\n",
    "    for line in csv1_fh:\n",
    "        line = line.replace('\"', '')\n",
    "        line = line.strip()\n",
    "        uniprot_acc, ec_code = line.split(',')\n",
    "        uniq_ec.add(ec_code)\n",
    "\n",
    "for ec_code in sorted(uniq_ec):\n",
    "    print(\"ec_code: \", {ec_code})\n",
    " \n",
    "print number of uniq_ec\n",
    "print(\"number of uniq_ec strings: \", len(uniq_ec))\n",
    "\n",
    "\n",
    "# 1. remove \"\"\n",
    "# 2. filter uniq funfam_members in the table\n",
    "# 3. count the number uniq funfam numbers\n",
    "mport pandas as pd\n",
    "\n",
    "csv1_filename = \"funfam_members_in_sfam.csv\"\n",
    "\n",
    "uniq_funfam_number = set()\n",
    "\n",
    "with open(csv1_filename) as csv1_fh:\n",
    "    for line in csv1_fh:\n",
    "        line = line.replace('\"', '')\n",
    "        line = line.strip()\n",
    "        FUNFAM_NUMBER, MEMBER_ID, SEQUENCE_MD5, MEMBER_TYPE = line.split(',')\n",
    "        uniq_funfam_number.add(FUNFAM_NUMBER)\n",
    "        # print(line)\n",
    "\n",
    "# for funfam_number in sorted(FUNFAM_NUMBER):\n",
    "    # print(\"funfam_number: \", {funfam_number})\n",
    " \n",
    "#print number of uniq_funfam_number\n",
    "print(\"number of uniq_funfam_number strings: \", len(uniq_funfam_number))\n",
    "\n",
    "\n",
    "\n",
    "\n",
    "\n",
    "\n",
    "\n",
    "\n"
   ]
  }
 ],
 "metadata": {
  "kernelspec": {
   "display_name": "Python 3",
   "language": "python",
   "name": "python3"
  },
  "language_info": {
   "codemirror_mode": {
    "name": "ipython",
    "version": 3
   },
   "file_extension": ".py",
   "mimetype": "text/x-python",
   "name": "python",
   "nbconvert_exporter": "python",
   "pygments_lexer": "ipython3",
   "version": "3.7.3"
  }
 },
 "nbformat": 4,
 "nbformat_minor": 2
}
